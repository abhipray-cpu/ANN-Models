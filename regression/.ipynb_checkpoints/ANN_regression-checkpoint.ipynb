{
 "cells": [
  {
   "cell_type": "markdown",
   "metadata": {
    "id": "x_9xl-o9C3h6"
   },
   "source": [
    "# **#This is an ANN model for regression**"
   ]
  },
  {
   "cell_type": "code",
   "execution_count": null,
   "metadata": {
    "id": "fSQ5Yq-nC7d1"
   },
   "outputs": [],
   "source": [
    "#importing libraries\n",
    "import pandas as pd\n",
    "import numpy as np\n",
    "import tensorflow as tf\n",
    "import seaborn as sns"
   ]
  },
  {
   "cell_type": "code",
   "execution_count": null,
   "metadata": {
    "id": "jy1KVXxKDEFm"
   },
   "outputs": [],
   "source": [
    "dataset=pd.read_excel('/content/Folds5x2_pp.xlsx')\n",
    "x=dataset.iloc[:,:-1].values\n",
    "y=dataset.iloc[:,-1].values"
   ]
  },
  {
   "cell_type": "code",
   "execution_count": null,
   "metadata": {
    "colab": {
     "base_uri": "https://localhost:8080/"
    },
    "id": "fQ6ZGVY4DlPX",
    "outputId": "565158c5-59b6-411b-9ac9-c329ec89953a"
   },
   "outputs": [
    {
     "name": "stdout",
     "output_type": "stream",
     "text": [
      "         AT      V       AP     RH      PE\n",
      "0     14.96  41.76  1024.07  73.17  463.26\n",
      "1     25.18  62.96  1020.04  59.08  444.37\n",
      "2      5.11  39.40  1012.16  92.14  488.56\n",
      "3     20.86  57.32  1010.24  76.64  446.48\n",
      "4     10.82  37.50  1009.23  96.62  473.90\n",
      "...     ...    ...      ...    ...     ...\n",
      "9563  16.65  49.69  1014.01  91.00  460.03\n",
      "9564  13.19  39.18  1023.67  66.78  469.62\n",
      "9565  31.32  74.33  1012.92  36.48  429.57\n",
      "9566  24.48  69.45  1013.86  62.39  435.74\n",
      "9567  21.60  62.52  1017.23  67.87  453.28\n",
      "\n",
      "[9568 rows x 5 columns]\n"
     ]
    }
   ],
   "source": [
    "print(dataset)"
   ]
  },
  {
   "cell_type": "code",
   "execution_count": null,
   "metadata": {
    "colab": {
     "base_uri": "https://localhost:8080/"
    },
    "id": "PacRMAebDlp5",
    "outputId": "c8633251-3552-4fd5-dd99-3e0d690ab2e5"
   },
   "outputs": [
    {
     "name": "stdout",
     "output_type": "stream",
     "text": [
      "[463.26 444.37 488.56 ... 429.57 435.74 453.28]\n"
     ]
    }
   ],
   "source": [
    "print(y)"
   ]
  },
  {
   "cell_type": "code",
   "execution_count": null,
   "metadata": {
    "colab": {
     "base_uri": "https://localhost:8080/"
    },
    "id": "DP9qgU6gDlSl",
    "outputId": "8105cf2b-99b3-47f7-a607-7828625976a6"
   },
   "outputs": [
    {
     "name": "stdout",
     "output_type": "stream",
     "text": [
      "[[  14.96   41.76 1024.07   73.17]\n",
      " [  25.18   62.96 1020.04   59.08]\n",
      " [   5.11   39.4  1012.16   92.14]\n",
      " ...\n",
      " [  31.32   74.33 1012.92   36.48]\n",
      " [  24.48   69.45 1013.86   62.39]\n",
      " [  21.6    62.52 1017.23   67.87]]\n"
     ]
    }
   ],
   "source": [
    "print(x)"
   ]
  },
  {
   "cell_type": "code",
   "execution_count": null,
   "metadata": {
    "id": "o9CoB-DqDt56"
   },
   "outputs": [],
   "source": [
    "from sklearn.model_selection import train_test_split\n",
    "x_train,x_test,y_train,y_test=train_test_split(x,y,test_size=0.2,random_state=42)"
   ]
  },
  {
   "cell_type": "markdown",
   "metadata": {
    "id": "NR5Ovb-tEHPX"
   },
   "source": [
    "# **Building The ANN**"
   ]
  },
  {
   "cell_type": "code",
   "execution_count": null,
   "metadata": {
    "id": "YrUCLQDiEFnz"
   },
   "outputs": [],
   "source": [
    "ann=tf.keras.models.Sequential()"
   ]
  },
  {
   "cell_type": "code",
   "execution_count": null,
   "metadata": {
    "id": "p6oXHVYPERoM"
   },
   "outputs": [],
   "source": [
    "ann.add(tf.keras.layers.Dense(units=6,activation='relu'))#this is the first hidden layer\n",
    "ann.add(tf.keras.layers.Dense(units=6,activation='relu'))#this is the second hidden layer\n",
    "ann.add(tf.keras.layers.Dense(units=1))#this is the output layer and since regression therefore no activation function\n"
   ]
  },
  {
   "cell_type": "markdown",
   "metadata": {
    "id": "dQSd0u0zEzMn"
   },
   "source": [
    "#Training the ANN"
   ]
  },
  {
   "cell_type": "code",
   "execution_count": null,
   "metadata": {
    "colab": {
     "base_uri": "https://localhost:8080/"
    },
    "id": "9pVxfm2SFJov",
    "outputId": "fae77e51-7a4c-4cc2-9781-7965d4408a35"
   },
   "outputs": [
    {
     "name": "stdout",
     "output_type": "stream",
     "text": [
      "Collecting tensor-dash\n",
      "  Downloading tensor_dash-1.8.1-py3-none-any.whl (8.8 kB)\n",
      "Requirement already satisfied: requests in /usr/local/lib/python3.7/dist-packages (from tensor-dash) (2.23.0)\n",
      "Requirement already satisfied: idna<3,>=2.5 in /usr/local/lib/python3.7/dist-packages (from requests->tensor-dash) (2.10)\n",
      "Requirement already satisfied: chardet<4,>=3.0.2 in /usr/local/lib/python3.7/dist-packages (from requests->tensor-dash) (3.0.4)\n",
      "Requirement already satisfied: certifi>=2017.4.17 in /usr/local/lib/python3.7/dist-packages (from requests->tensor-dash) (2021.10.8)\n",
      "Requirement already satisfied: urllib3!=1.25.0,!=1.25.1,<1.26,>=1.21.1 in /usr/local/lib/python3.7/dist-packages (from requests->tensor-dash) (1.24.3)\n",
      "Installing collected packages: tensor-dash\n",
      "Successfully installed tensor-dash-1.8.1\n"
     ]
    }
   ],
   "source": [
    "!pip install tensor-dash"
   ]
  },
  {
   "cell_type": "code",
   "execution_count": null,
   "metadata": {
    "id": "015o0CwPE15i"
   },
   "outputs": [],
   "source": [
    "ann.compile(optimizer='adam',loss='mean_squared_error')\n",
    "from tensordash.tensordash import Tensordash\n",
    "histories=Tensordash(\n",
    "    ModelName='ann regression (housing dataset)',\n",
    "    email='dumkaabhipray@gmail.com',\n",
    "    password='kamalanita1@'\n",
    ")"
   ]
  },
  {
   "cell_type": "code",
   "execution_count": null,
   "metadata": {
    "id": "UOqcT5HlFEVj"
   },
   "outputs": [],
   "source": [
    "try:\n",
    "  ann.fit(x_train,y_train,batch_size=32,epochs=100,callbacks=[histories])\n",
    "except Exception as e:\n",
    "  print(e)\n",
    "  histories.sendCrash()"
   ]
  },
  {
   "cell_type": "markdown",
   "metadata": {
    "id": "a-m-WtdcFo38"
   },
   "source": [
    "#Predicting on test set\n"
   ]
  },
  {
   "cell_type": "code",
   "execution_count": null,
   "metadata": {
    "colab": {
     "base_uri": "https://localhost:8080/"
    },
    "id": "5S9WXSTYFs7m",
    "outputId": "4f4108b7-754e-4116-a529-7132c0524b91"
   },
   "outputs": [
    {
     "name": "stdout",
     "output_type": "stream",
     "text": [
      "[[459.07 455.27]\n",
      " [441.31 436.31]\n",
      " [436.04 440.68]\n",
      " ...\n",
      " [483.68 479.53]\n",
      " [438.13 435.76]\n",
      " [462.36 457.1 ]]\n"
     ]
    }
   ],
   "source": [
    "#predicting test set results\n",
    "y_pred=ann.predict(x_test)#this will simply return probablity\n",
    "np.set_printoptions(precision=2)\n",
    "res=np.concatenate((y_pred.reshape(len(y_pred),1), y_test.reshape(len(y_test),1)),1)\n",
    "print(res)"
   ]
  },
  {
   "cell_type": "code",
   "execution_count": null,
   "metadata": {
    "colab": {
     "base_uri": "https://localhost:8080/",
     "height": 376
    },
    "id": "hxC6G4HqFvTj",
    "outputId": "9d6b8f24-4bff-4745-cb03-ee15b60b010f"
   },
   "outputs": [
    {
     "name": "stderr",
     "output_type": "stream",
     "text": [
      "/usr/local/lib/python3.7/dist-packages/seaborn/distributions.py:2619: FutureWarning: `distplot` is a deprecated function and will be removed in a future version. Please adapt your code to use either `displot` (a figure-level function with similar flexibility) or `kdeplot` (an axes-level function for kernel density plots).\n",
      "  warnings.warn(msg, FutureWarning)\n",
      "/usr/local/lib/python3.7/dist-packages/seaborn/distributions.py:2619: FutureWarning: `distplot` is a deprecated function and will be removed in a future version. Please adapt your code to use either `displot` (a figure-level function with similar flexibility) or `kdeplot` (an axes-level function for kernel density plots).\n",
      "  warnings.warn(msg, FutureWarning)\n"
     ]
    },
    {
     "data": {
      "text/plain": [
       "<matplotlib.axes._subplots.AxesSubplot at 0x7f889380fb10>"
      ]
     },
     "execution_count": 24,
     "metadata": {},
     "output_type": "execute_result"
    },
    {
     "data": {
      "image/png": "[encoded data removed]",
      "text/plain": [
       "<Figure size 432x288 with 1 Axes>"
      ]
     },
     "metadata": {
      "needs_background": "light"
     },
     "output_type": "display_data"
    }
   ],
   "source": [
    "#visualizing the results\n",
    "import seaborn as sns\n",
    "ax1=sns.distplot(y_test,hist=False,color=\"r\",label=\"actual value\")\n",
    "sns.distplot(y_pred,hist=False,color=\"b\",label=\"predicted values\",ax=ax1)"
   ]
  },
  {
   "cell_type": "code",
   "execution_count": null,
   "metadata": {
    "id": "6FvxL6QlUENR"
   },
   "outputs": [],
   "source": [
    "#cross validating the model\n",
    "#need to split data into different sets first\n",
    "dataSets=[]\n",
    "accuracies=[]\n",
    "for val in range(1,10):\n",
    "  print(f'this is the {val}th dataset split results')\n",
    "  x_train,x_test,y_train,y_test=train_test_split(x,y,test_size=0.25,random_state=val+7)\n",
    "  try:\n",
    "    history=ann.fit(np.asarray(x_train).astype(np.float32), np.asarray(y_train).astype(np.float32),batch_size=32,epochs=100,callbacks=[histories])\n",
    "    accuracies.append(history)\n",
    "  except Exception as e:\n",
    "    print(e)\n",
    "  histories.sendCrash()"
   ]
  }
 ],
 "metadata": {
  "colab": {
   "name": "ANN regression.ipynb",
   "provenance": []
  },
  "kernelspec": {
   "display_name": "Python 3 (ipykernel)",
   "language": "python",
   "name": "python3"
  },
  "language_info": {
   "codemirror_mode": {
    "name": "ipython",
    "version": 3
   },
   "file_extension": ".py",
   "mimetype": "text/x-python",
   "name": "python",
   "nbconvert_exporter": "python",
   "pygments_lexer": "ipython3",
   "version": "3.9.12"
  }
 },
 "nbformat": 4,
 "nbformat_minor": 1
}
