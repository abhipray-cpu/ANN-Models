{
  "nbformat": 4,
  "nbformat_minor": 0,
  "metadata": {
    "colab": {
      "name": "Ann Classification.ipynb",
      "provenance": [],
      "collapsed_sections": []
    },
    "kernelspec": {
      "name": "python3",
      "display_name": "Python 3"
    },
    "language_info": {
      "name": "python"
    }
  },
  "cells": [
    {
      "cell_type": "markdown",
      "source": [
        "# Churn modeling:(This is a segmentation model that is used to segment users into two or more categories)"
      ],
      "metadata": {
        "id": "fRurzlrX4hli"
      }
    },
    {
      "cell_type": "code",
      "execution_count": 1,
      "metadata": {
        "id": "fWakMGy334Dk"
      },
      "outputs": [],
      "source": [
        "#importing libraries\n",
        "import pandas as pd\n",
        "import numpy as np\n",
        "import tensorflow as tf"
      ]
    },
    {
      "cell_type": "code",
      "source": [
        "tf.__version__"
      ],
      "metadata": {
        "colab": {
          "base_uri": "https://localhost:8080/",
          "height": 36
        },
        "id": "PjD5L1iv422M",
        "outputId": "33f908ba-c6e4-4aa6-afa6-990789385fcf"
      },
      "execution_count": 2,
      "outputs": [
        {
          "output_type": "execute_result",
          "data": {
            "text/plain": [
              "'2.8.0'"
            ],
            "application/vnd.google.colaboratory.intrinsic+json": {
              "type": "string"
            }
          },
          "metadata": {},
          "execution_count": 2
        }
      ]
    },
    {
      "cell_type": "markdown",
      "source": [
        "# **Data preprocessing**"
      ],
      "metadata": {
        "id": "hY6ZRJ3I5JeS"
      }
    },
    {
      "cell_type": "code",
      "source": [
        "dataset=pd.read_csv('/content/Churn_Modelling.csv')\n",
        "x=dataset.iloc[:,3:-1].values\n",
        "y=dataset.iloc[:,-1].values\n"
      ],
      "metadata": {
        "id": "b4KWajsK5JBe"
      },
      "execution_count": 3,
      "outputs": []
    },
    {
      "cell_type": "code",
      "source": [
        "#encoding categorical variables\n",
        "#label encoding gender\n",
        "\n",
        "from sklearn.preprocessing import LabelEncoder\n",
        "le=LabelEncoder()\n",
        "x[:,2]=le.fit_transform(x[:,2])\n"
      ],
      "metadata": {
        "id": "m6alQf4k5mOf"
      },
      "execution_count": 4,
      "outputs": []
    },
    {
      "cell_type": "code",
      "source": [
        "#one hot encoding country fields\n",
        "from sklearn.preprocessing import OneHotEncoder\n",
        "from sklearn.compose import ColumnTransformer\n",
        "ct=ColumnTransformer(transformers=[('encoder',OneHotEncoder(),[1])],remainder='passthrough')\n",
        "x=np.array(ct.fit_transform(x))"
      ],
      "metadata": {
        "id": "uNJ5CaFa5-f-"
      },
      "execution_count": 5,
      "outputs": []
    },
    {
      "cell_type": "code",
      "source": [
        "#splitting the data\n",
        "from sklearn.model_selection import train_test_split\n",
        "x_train,x_test,y_train,y_test=train_test_split(x,y,test_size=0.2,random_state=42)"
      ],
      "metadata": {
        "id": "G8P_KqGc6ixi"
      },
      "execution_count": 6,
      "outputs": []
    },
    {
      "cell_type": "code",
      "source": [
        "#scaling the training set\n",
        "from sklearn.preprocessing import StandardScaler\n",
        "st=StandardScaler()\n",
        "x_train=st.fit_transform(x_train)\n",
        "x_test=st.transform(x_test)"
      ],
      "metadata": {
        "id": "PJAvJKHL67jv"
      },
      "execution_count": 7,
      "outputs": []
    },
    {
      "cell_type": "markdown",
      "source": [
        "# **Building the ANN**"
      ],
      "metadata": {
        "id": "FpW5W1SR7OYx"
      }
    },
    {
      "cell_type": "code",
      "source": [
        "#intializing the ANN\n",
        "ann=tf.keras.models.Sequential()"
      ],
      "metadata": {
        "id": "atPT6KrK7N3G"
      },
      "execution_count": 8,
      "outputs": []
    },
    {
      "cell_type": "code",
      "source": [
        "#Adding the input and first hidden layer\n",
        "ann.add(tf.keras.layers.Dense(units=6,activation='relu'))"
      ],
      "metadata": {
        "id": "BbuWkrOO7aue"
      },
      "execution_count": 9,
      "outputs": []
    },
    {
      "cell_type": "code",
      "source": [
        "#adding the second hidden layer\n",
        "ann.add(tf.keras.layers.Dense(units=6,activation='relu'))"
      ],
      "metadata": {
        "id": "-ERZ-ESx7nu7"
      },
      "execution_count": 10,
      "outputs": []
    },
    {
      "cell_type": "code",
      "source": [
        "#adding an output layer\n",
        "#for multivariate classification use softmax as acticvation function\n",
        "\n",
        "#use sigmoid as activation function for bivariarte/binary output\n",
        "ann.add(tf.keras.layers.Dense(units=1,activation='sigmoid'))"
      ],
      "metadata": {
        "id": "pcckyJfE7nxq"
      },
      "execution_count": 11,
      "outputs": []
    },
    {
      "cell_type": "markdown",
      "source": [
        "# **Training the ANN**"
      ],
      "metadata": {
        "id": "Al4LZcFW8AKe"
      }
    },
    {
      "cell_type": "code",
      "source": [
        "!pip install tensor-dash"
      ],
      "metadata": {
        "colab": {
          "base_uri": "https://localhost:8080/"
        },
        "id": "klLm_Nqg9fzD",
        "outputId": "dfb4d762-5a0e-463a-c65e-42765491024a"
      },
      "execution_count": 12,
      "outputs": [
        {
          "output_type": "stream",
          "name": "stdout",
          "text": [
            "Collecting tensor-dash\n",
            "  Downloading tensor_dash-1.8.1-py3-none-any.whl (8.8 kB)\n",
            "Requirement already satisfied: requests in /usr/local/lib/python3.7/dist-packages (from tensor-dash) (2.23.0)\n",
            "Requirement already satisfied: certifi>=2017.4.17 in /usr/local/lib/python3.7/dist-packages (from requests->tensor-dash) (2021.10.8)\n",
            "Requirement already satisfied: chardet<4,>=3.0.2 in /usr/local/lib/python3.7/dist-packages (from requests->tensor-dash) (3.0.4)\n",
            "Requirement already satisfied: urllib3!=1.25.0,!=1.25.1,<1.26,>=1.21.1 in /usr/local/lib/python3.7/dist-packages (from requests->tensor-dash) (1.24.3)\n",
            "Requirement already satisfied: idna<3,>=2.5 in /usr/local/lib/python3.7/dist-packages (from requests->tensor-dash) (2.10)\n",
            "Installing collected packages: tensor-dash\n",
            "Successfully installed tensor-dash-1.8.1\n"
          ]
        }
      ]
    },
    {
      "cell_type": "code",
      "source": [
        "#compiling the ANN\n",
        "#this is for bivariate classification\n",
        "ann.compile(optimizer='adam',loss='binary_crossentropy',metrics=['accuracy'])\n",
        "#use this is for multivariate classification use categorical_crossentropy loss\n"
      ],
      "metadata": {
        "id": "-WJn53Cb7n0a"
      },
      "execution_count": 13,
      "outputs": []
    },
    {
      "cell_type": "code",
      "source": [
        "from tensordash.tensordash import Tensordash\n",
        "histories=Tensordash(\n",
        "    ModelName='ann Clasification (chur segmentation)',\n",
        "    email='dumkaabhipray@gmail.com',\n",
        "    password='kamalanita1@'\n",
        ")\n"
      ],
      "metadata": {
        "id": "plC3TCYw9lwK"
      },
      "execution_count": 14,
      "outputs": []
    },
    {
      "cell_type": "code",
      "source": [
        "#training the ANN\n",
        "try:\n",
        "  ann.fit(x_train,y_train,batch_size=32,epochs=100,callbacks=[histories])\n",
        "except Exception as e:\n",
        "  print(e)\n",
        "  histories.sendCrash()"
      ],
      "metadata": {
        "id": "bx_tMn_F9Bx2"
      },
      "execution_count": null,
      "outputs": []
    },
    {
      "cell_type": "markdown",
      "source": [
        "# **Making the predictions on the trained model**"
      ],
      "metadata": {
        "id": "nwMASoL89Jlb"
      }
    },
    {
      "cell_type": "code",
      "source": [
        "#predicting test set results\n",
        "y_pred=ann.predict(x_test)#this will simply return probablity\n",
        "y_pred=(y_pred>0.5)#we need to convert probablity to some solid value based on some threshold value\n",
        "res=np.concatenate((y_pred.reshape(len(y_pred),1), y_test.reshape(len(y_test),1)),1)\n",
        "print(res)"
      ],
      "metadata": {
        "colab": {
          "base_uri": "https://localhost:8080/"
        },
        "id": "og5ytKZn_Vki",
        "outputId": "f9c29cb7-3dc3-45db-8849-dc65d08d791a"
      },
      "execution_count": null,
      "outputs": [
        {
          "output_type": "stream",
          "name": "stdout",
          "text": [
            "[[0 0]\n",
            " [0 0]\n",
            " [0 0]\n",
            " ...\n",
            " [1 1]\n",
            " [0 1]\n",
            " [0 1]]\n"
          ]
        }
      ]
    },
    {
      "cell_type": "code",
      "source": [
        "#visualizing the results\n",
        "import seaborn as sns\n",
        "ax1=sns.distplot(y_test,hist=False,color=\"r\",label=\"actual value\")\n",
        "sns.distplot(y_pred,hist=False,color=\"b\",label=\"predicted values\",ax=ax1)"
      ],
      "metadata": {
        "colab": {
          "base_uri": "https://localhost:8080/",
          "height": 376
        },
        "id": "3NqpcYbbAQQn",
        "outputId": "076f297a-e6a1-4b23-ae3e-ca05eed8baa6"
      },
      "execution_count": null,
      "outputs": [
        {
          "output_type": "stream",
          "name": "stderr",
          "text": [
            "/usr/local/lib/python3.7/dist-packages/seaborn/distributions.py:2619: FutureWarning: `distplot` is a deprecated function and will be removed in a future version. Please adapt your code to use either `displot` (a figure-level function with similar flexibility) or `kdeplot` (an axes-level function for kernel density plots).\n",
            "  warnings.warn(msg, FutureWarning)\n",
            "/usr/local/lib/python3.7/dist-packages/seaborn/distributions.py:2619: FutureWarning: `distplot` is a deprecated function and will be removed in a future version. Please adapt your code to use either `displot` (a figure-level function with similar flexibility) or `kdeplot` (an axes-level function for kernel density plots).\n",
            "  warnings.warn(msg, FutureWarning)\n"
          ]
        },
        {
          "output_type": "execute_result",
          "data": {
            "text/plain": [
              "<matplotlib.axes._subplots.AxesSubplot at 0x7f273867d7d0>"
            ]
          },
          "metadata": {},
          "execution_count": 124
        },
        {
          "output_type": "display_data",
          "data": {
            "text/plain": [
              "<Figure size 432x288 with 1 Axes>"
            ],
            "image/png": "[encoded data removed]"
          },
          "metadata": {
            "needs_background": "light"
          }
        }
      ]
    },
    {
      "cell_type": "code",
      "source": [
        "#building the confusion matrix\n",
        "from sklearn.metrics import confusion_matrix,accuracy_score\n",
        "cm=confusion_matrix(y_test,y_pred)\n",
        "print(cm)\n",
        "accuracy_score(y_test,y_pred)"
      ],
      "metadata": {
        "colab": {
          "base_uri": "https://localhost:8080/"
        },
        "id": "_gMLYBVMAiCL",
        "outputId": "8b383ca9-76e0-4766-aa50-7ebc2071f0c6"
      },
      "execution_count": null,
      "outputs": [
        {
          "output_type": "stream",
          "name": "stdout",
          "text": [
            "[[1549   58]\n",
            " [ 210  183]]\n"
          ]
        },
        {
          "output_type": "execute_result",
          "data": {
            "text/plain": [
              "0.866"
            ]
          },
          "metadata": {},
          "execution_count": 125
        }
      ]
    },
    {
      "cell_type": "markdown",
      "source": [
        "#Cross validating the model using k-fold cross validation"
      ],
      "metadata": {
        "id": "Qh5aCXFuK-I2"
      }
    },
    {
      "cell_type": "code",
      "source": [
        "#need to split data into different sets first\n",
        "#need to handle the crashed iteration\n",
        "dataSets=[]\n",
        "accuracies=[]\n",
        "for val in range(1,10):\n",
        "  print(f'this is the {val}th dataset split results')\n",
        "  x_train,x_test,y_train,y_test=train_test_split(x,y,test_size=0.25,random_state=val+7)\n",
        "  try:\n",
        "    history=ann.fit(np.asarray(x_train).astype(np.float32), np.asarray(y_train).astype(np.float32),batch_size=32,epochs=100,callbacks=[histories])\n",
        "    accuracies.append(history)\n",
        "  except Exception as e:\n",
        "    print(e)\n",
        "  histories.sendCrash()"
      ],
      "metadata": {
        "id": "sm25qB75LFJe",
        "colab": {
          "base_uri": "https://localhost:8080/"
        },
        "outputId": "8067b499-db05-4ef9-dafd-af35a910017c"
      },
      "execution_count": null,
      "outputs": [
        {
          "output_type": "stream",
          "name": "stdout",
          "text": [
            "this is the 1th dataset split results\n",
            "Epoch 1/100\n",
            "235/235 [==============================] - 1s 3ms/step - loss: 400.8252 - accuracy: 0.6727\n",
            "Epoch 2/100\n",
            "235/235 [==============================] - 1s 3ms/step - loss: 42.9386 - accuracy: 0.6771\n",
            "Epoch 3/100\n",
            "235/235 [==============================] - 1s 3ms/step - loss: 32.4326 - accuracy: 0.6897\n",
            "Epoch 4/100\n",
            "235/235 [==============================] - 1s 5ms/step - loss: 21.5543 - accuracy: 0.6855\n",
            "Epoch 5/100\n",
            "235/235 [==============================] - 1s 3ms/step - loss: 21.6447 - accuracy: 0.6833\n",
            "Epoch 6/100\n",
            "235/235 [==============================] - 1s 5ms/step - loss: 18.3453 - accuracy: 0.6829\n",
            "Epoch 7/100\n",
            "235/235 [==============================] - 1s 5ms/step - loss: 23.2062 - accuracy: 0.6936\n",
            "Epoch 8/100\n",
            "235/235 [==============================] - 1s 3ms/step - loss: 18.9524 - accuracy: 0.6859\n",
            "Epoch 9/100\n",
            "235/235 [==============================] - 1s 3ms/step - loss: 18.0107 - accuracy: 0.6837\n",
            "Epoch 10/100\n",
            "235/235 [==============================] - 1s 3ms/step - loss: 14.7152 - accuracy: 0.6920\n",
            "Epoch 11/100\n",
            "235/235 [==============================] - 1s 3ms/step - loss: 15.8343 - accuracy: 0.6868\n",
            "Epoch 12/100\n",
            "235/235 [==============================] - 1s 4ms/step - loss: 17.1539 - accuracy: 0.6925\n",
            "Epoch 13/100\n",
            "235/235 [==============================] - 1s 3ms/step - loss: 14.9061 - accuracy: 0.6880\n",
            "Epoch 14/100\n",
            "235/235 [==============================] - 1s 3ms/step - loss: 14.7372 - accuracy: 0.6961\n",
            "Epoch 15/100\n",
            "235/235 [==============================] - 2s 7ms/step - loss: 14.7936 - accuracy: 0.6867\n",
            "Epoch 16/100\n",
            "235/235 [==============================] - 1s 3ms/step - loss: 16.7410 - accuracy: 0.6948\n",
            "Epoch 17/100\n",
            "235/235 [==============================] - 1s 5ms/step - loss: 20.3154 - accuracy: 0.6873\n",
            "Epoch 18/100\n",
            "235/235 [==============================] - 1s 3ms/step - loss: 11.1711 - accuracy: 0.6933\n",
            "Epoch 19/100\n",
            "235/235 [==============================] - 1s 5ms/step - loss: 14.9485 - accuracy: 0.6875\n",
            "Epoch 20/100\n",
            "235/235 [==============================] - 1s 5ms/step - loss: 17.4528 - accuracy: 0.6873\n",
            "Epoch 21/100\n",
            "235/235 [==============================] - 1s 3ms/step - loss: 13.1642 - accuracy: 0.6967\n",
            "Epoch 22/100\n",
            "235/235 [==============================] - 1s 3ms/step - loss: 16.9036 - accuracy: 0.6855\n",
            "Epoch 23/100\n",
            "235/235 [==============================] - 1s 3ms/step - loss: 12.0763 - accuracy: 0.6824\n",
            "Epoch 24/100\n",
            "235/235 [==============================] - 1s 5ms/step - loss: 11.4968 - accuracy: 0.6912\n",
            "Epoch 25/100\n",
            "235/235 [==============================] - 1s 3ms/step - loss: 11.6587 - accuracy: 0.6933\n",
            "Epoch 26/100\n",
            "235/235 [==============================] - 1s 5ms/step - loss: 14.3350 - accuracy: 0.6875\n",
            "Epoch 27/100\n",
            "235/235 [==============================] - 1s 3ms/step - loss: 13.7318 - accuracy: 0.6951\n",
            "Epoch 28/100\n",
            "235/235 [==============================] - 1s 3ms/step - loss: 13.2143 - accuracy: 0.6893\n",
            "Epoch 29/100\n",
            "235/235 [==============================] - 1s 3ms/step - loss: 10.8312 - accuracy: 0.6945\n",
            "Epoch 30/100\n",
            "235/235 [==============================] - 1s 3ms/step - loss: 11.4088 - accuracy: 0.6913\n",
            "Epoch 31/100\n",
            "235/235 [==============================] - 1s 3ms/step - loss: 13.7775 - accuracy: 0.6923\n",
            "Epoch 32/100\n",
            "235/235 [==============================] - 1s 5ms/step - loss: 12.7633 - accuracy: 0.6985\n",
            "Epoch 33/100\n",
            "235/235 [==============================] - 1s 3ms/step - loss: 11.2592 - accuracy: 0.7017\n",
            "Epoch 34/100\n",
            "235/235 [==============================] - 1s 3ms/step - loss: 12.1691 - accuracy: 0.6865\n",
            "Epoch 35/100\n",
            "235/235 [==============================] - 1s 3ms/step - loss: 15.5402 - accuracy: 0.6853\n",
            "Epoch 36/100\n",
            "235/235 [==============================] - 1s 5ms/step - loss: 11.9135 - accuracy: 0.6939\n",
            "Epoch 37/100\n",
            "235/235 [==============================] - 1s 5ms/step - loss: 13.1926 - accuracy: 0.6901\n",
            "Epoch 38/100\n",
            "235/235 [==============================] - 1s 5ms/step - loss: 13.2955 - accuracy: 0.6880\n",
            "Epoch 39/100\n",
            "235/235 [==============================] - 1s 3ms/step - loss: 12.3579 - accuracy: 0.6871\n",
            "Epoch 40/100\n",
            "235/235 [==============================] - 1s 5ms/step - loss: 14.0317 - accuracy: 0.6893\n",
            "Epoch 41/100\n",
            "235/235 [==============================] - 1s 3ms/step - loss: 11.3199 - accuracy: 0.6901\n",
            "Epoch 42/100\n",
            "235/235 [==============================] - 1s 5ms/step - loss: 10.7469 - accuracy: 0.6964\n",
            "Epoch 43/100\n",
            "235/235 [==============================] - 1s 5ms/step - loss: 9.7945 - accuracy: 0.6980\n",
            "Epoch 44/100\n",
            "235/235 [==============================] - 1s 5ms/step - loss: 11.5786 - accuracy: 0.6899\n",
            "Epoch 45/100\n",
            "235/235 [==============================] - 1s 3ms/step - loss: 11.4737 - accuracy: 0.6888\n",
            "Epoch 46/100\n",
            "235/235 [==============================] - 1s 5ms/step - loss: 16.6608 - accuracy: 0.6813\n",
            "Epoch 47/100\n",
            "235/235 [==============================] - 2s 7ms/step - loss: 9.0021 - accuracy: 0.6987\n",
            "Epoch 48/100\n",
            "235/235 [==============================] - 1s 3ms/step - loss: 10.6241 - accuracy: 0.6873\n",
            "Epoch 49/100\n",
            "235/235 [==============================] - 1s 5ms/step - loss: 16.5799 - accuracy: 0.6827\n",
            "Epoch 50/100\n",
            "235/235 [==============================] - 1s 3ms/step - loss: 15.6883 - accuracy: 0.6892\n",
            "Epoch 51/100\n",
            "235/235 [==============================] - 1s 3ms/step - loss: 12.5219 - accuracy: 0.6976\n",
            "Epoch 52/100\n",
            "235/235 [==============================] - 1s 3ms/step - loss: 11.8397 - accuracy: 0.6904\n",
            "Epoch 53/100\n",
            "235/235 [==============================] - 1s 5ms/step - loss: 11.7851 - accuracy: 0.6975\n",
            "Epoch 54/100\n",
            "235/235 [==============================] - 1s 3ms/step - loss: 9.7158 - accuracy: 0.7003\n",
            "Epoch 55/100\n",
            "235/235 [==============================] - 1s 3ms/step - loss: 14.1046 - accuracy: 0.6993\n",
            "Epoch 56/100\n",
            "235/235 [==============================] - 1s 5ms/step - loss: 11.2056 - accuracy: 0.6959\n",
            "Epoch 57/100\n",
            "235/235 [==============================] - 1s 3ms/step - loss: 10.4333 - accuracy: 0.6979\n",
            "Epoch 58/100\n",
            "235/235 [==============================] - 1s 3ms/step - loss: 11.6070 - accuracy: 0.6984\n",
            "Epoch 59/100\n",
            "235/235 [==============================] - 1s 5ms/step - loss: 9.8857 - accuracy: 0.6969\n",
            "Epoch 60/100\n",
            "235/235 [==============================] - 1s 3ms/step - loss: 9.8900 - accuracy: 0.6976\n",
            "Epoch 61/100\n",
            "235/235 [==============================] - 1s 3ms/step - loss: 10.0563 - accuracy: 0.6937\n",
            "Epoch 62/100\n",
            "235/235 [==============================] - 1s 3ms/step - loss: 10.4257 - accuracy: 0.6995\n",
            "Epoch 63/100\n",
            "235/235 [==============================] - 1s 3ms/step - loss: 8.6336 - accuracy: 0.7043\n",
            "Epoch 64/100\n",
            "235/235 [==============================] - 1s 3ms/step - loss: 13.3817 - accuracy: 0.6932\n",
            "Epoch 65/100\n",
            "235/235 [==============================] - 1s 3ms/step - loss: 13.9159 - accuracy: 0.6971\n",
            "Epoch 66/100\n",
            "235/235 [==============================] - 1s 3ms/step - loss: 8.8729 - accuracy: 0.6985\n",
            "Epoch 67/100\n",
            "235/235 [==============================] - 1s 3ms/step - loss: 9.2365 - accuracy: 0.7004\n",
            "Epoch 68/100\n",
            "235/235 [==============================] - 1s 6ms/step - loss: 8.0889 - accuracy: 0.7097\n",
            "Epoch 69/100\n",
            "235/235 [==============================] - 1s 5ms/step - loss: 10.8844 - accuracy: 0.7045\n",
            "Epoch 70/100\n",
            "235/235 [==============================] - 1s 3ms/step - loss: 10.9120 - accuracy: 0.6979\n",
            "Epoch 71/100\n",
            "235/235 [==============================] - 1s 5ms/step - loss: 11.2845 - accuracy: 0.6895\n",
            "Epoch 72/100\n",
            "235/235 [==============================] - 1s 3ms/step - loss: 6.7570 - accuracy: 0.7019\n",
            "Epoch 73/100\n",
            "235/235 [==============================] - 1s 3ms/step - loss: 11.0726 - accuracy: 0.7035\n",
            "Epoch 74/100\n",
            "235/235 [==============================] - 1s 5ms/step - loss: 10.6297 - accuracy: 0.7003\n",
            "Epoch 75/100\n",
            "235/235 [==============================] - 1s 3ms/step - loss: 9.8221 - accuracy: 0.7009\n",
            "Epoch 76/100\n",
            "235/235 [==============================] - 1s 3ms/step - loss: 9.6109 - accuracy: 0.6979\n",
            "Epoch 77/100\n",
            "235/235 [==============================] - 2s 7ms/step - loss: 10.8267 - accuracy: 0.6957\n",
            "Epoch 78/100\n",
            "235/235 [==============================] - 1s 3ms/step - loss: 10.5488 - accuracy: 0.6928\n",
            "Epoch 79/100\n",
            "235/235 [==============================] - 2s 6ms/step - loss: 12.6237 - accuracy: 0.6936\n",
            "Epoch 80/100\n",
            "235/235 [==============================] - 2s 9ms/step - loss: 9.9771 - accuracy: 0.6939\n",
            "Epoch 81/100\n",
            "235/235 [==============================] - 1s 4ms/step - loss: 10.8022 - accuracy: 0.6960\n",
            "Epoch 82/100\n",
            "235/235 [==============================] - 1s 3ms/step - loss: 10.3652 - accuracy: 0.7028\n",
            "Epoch 83/100\n",
            "235/235 [==============================] - 1s 3ms/step - loss: 8.3518 - accuracy: 0.7072\n",
            "Epoch 84/100\n",
            "235/235 [==============================] - 1s 5ms/step - loss: 9.3941 - accuracy: 0.7039\n",
            "Epoch 85/100\n",
            "235/235 [==============================] - 1s 3ms/step - loss: 12.8496 - accuracy: 0.6943\n",
            "Epoch 86/100\n",
            "235/235 [==============================] - 1s 3ms/step - loss: 9.1253 - accuracy: 0.6945\n",
            "Epoch 87/100\n",
            "235/235 [==============================] - 1s 5ms/step - loss: 9.7272 - accuracy: 0.7009\n",
            "Epoch 88/100\n",
            "235/235 [==============================] - 1s 3ms/step - loss: 10.0157 - accuracy: 0.7017\n",
            "Epoch 89/100\n",
            "235/235 [==============================] - 1s 5ms/step - loss: 8.1657 - accuracy: 0.7015\n",
            "Epoch 90/100\n",
            "235/235 [==============================] - 1s 3ms/step - loss: 7.9590 - accuracy: 0.7112\n",
            "Epoch 91/100\n",
            "235/235 [==============================] - 1s 3ms/step - loss: 7.3715 - accuracy: 0.7043\n",
            "Epoch 92/100\n",
            "235/235 [==============================] - 1s 5ms/step - loss: 10.2816 - accuracy: 0.7024\n",
            "Epoch 93/100\n",
            "235/235 [==============================] - 1s 3ms/step - loss: 8.0069 - accuracy: 0.6997\n",
            "Epoch 94/100\n",
            "235/235 [==============================] - 1s 5ms/step - loss: 12.0871 - accuracy: 0.6976\n",
            "Epoch 95/100\n",
            "235/235 [==============================] - 1s 3ms/step - loss: 9.8141 - accuracy: 0.6939\n",
            "Epoch 96/100\n",
            "235/235 [==============================] - 1s 3ms/step - loss: 6.8756 - accuracy: 0.7125\n",
            "Epoch 97/100\n",
            "235/235 [==============================] - 1s 3ms/step - loss: 11.2075 - accuracy: 0.6992\n",
            "Epoch 98/100\n",
            "235/235 [==============================] - 1s 3ms/step - loss: 12.1975 - accuracy: 0.6867\n",
            "Epoch 99/100\n",
            "235/235 [==============================] - 1s 3ms/step - loss: 10.9213 - accuracy: 0.6947\n",
            "Epoch 100/100\n",
            "235/235 [==============================] - 1s 5ms/step - loss: 9.4961 - accuracy: 0.6959\n",
            "this is the 2th dataset split results\n",
            "Epoch 1/100\n",
            "235/235 [==============================] - 1s 5ms/step - loss: 9.5952 - accuracy: 0.7065\n",
            "Epoch 2/100\n",
            "235/235 [==============================] - 1s 3ms/step - loss: 10.3653 - accuracy: 0.6981\n",
            "Epoch 3/100\n",
            "235/235 [==============================] - 1s 3ms/step - loss: 9.6887 - accuracy: 0.6980\n",
            "Epoch 4/100\n",
            "235/235 [==============================] - 1s 3ms/step - loss: 8.6165 - accuracy: 0.6983\n",
            "Epoch 5/100\n",
            "235/235 [==============================] - 1s 3ms/step - loss: 10.6659 - accuracy: 0.6903\n",
            "Epoch 6/100\n",
            "235/235 [==============================] - 1s 6ms/step - loss: 10.9197 - accuracy: 0.6901\n",
            "Epoch 7/100\n",
            "235/235 [==============================] - 1s 3ms/step - loss: 7.7337 - accuracy: 0.7104\n",
            "Epoch 8/100\n",
            "235/235 [==============================] - 1s 3ms/step - loss: 8.4285 - accuracy: 0.7031\n",
            "Epoch 9/100\n",
            "235/235 [==============================] - 1s 3ms/step - loss: 7.7051 - accuracy: 0.7140\n",
            "Epoch 10/100\n",
            "235/235 [==============================] - 1s 3ms/step - loss: 8.9876 - accuracy: 0.7064\n",
            "Epoch 11/100\n",
            "235/235 [==============================] - 1s 3ms/step - loss: 9.9812 - accuracy: 0.7071\n",
            "Epoch 12/100\n",
            "235/235 [==============================] - 1s 3ms/step - loss: 10.4705 - accuracy: 0.6996\n",
            "Epoch 13/100\n",
            "235/235 [==============================] - 1s 3ms/step - loss: 8.3216 - accuracy: 0.7072\n",
            "Epoch 14/100\n",
            "235/235 [==============================] - 1s 3ms/step - loss: 6.1356 - accuracy: 0.7169\n",
            "Epoch 15/100\n",
            "235/235 [==============================] - 1s 3ms/step - loss: 8.4675 - accuracy: 0.6987\n",
            "Epoch 16/100\n",
            "235/235 [==============================] - 1s 3ms/step - loss: 10.1945 - accuracy: 0.7092\n",
            "Epoch 17/100\n",
            "235/235 [==============================] - 1s 5ms/step - loss: 9.1741 - accuracy: 0.7023\n",
            "Epoch 18/100\n",
            "235/235 [==============================] - 1s 3ms/step - loss: 8.2744 - accuracy: 0.7100\n",
            "Epoch 19/100\n",
            "235/235 [==============================] - 1s 3ms/step - loss: 7.5747 - accuracy: 0.7085\n",
            "Epoch 20/100\n",
            "235/235 [==============================] - 1s 5ms/step - loss: 9.5207 - accuracy: 0.7051\n",
            "Epoch 21/100\n",
            "235/235 [==============================] - 1s 3ms/step - loss: 9.3715 - accuracy: 0.7060\n",
            "Epoch 22/100\n",
            "235/235 [==============================] - 1s 5ms/step - loss: 9.5872 - accuracy: 0.7091\n",
            "Epoch 23/100\n",
            "235/235 [==============================] - 1s 3ms/step - loss: 9.5272 - accuracy: 0.7103\n",
            "Epoch 24/100\n",
            "235/235 [==============================] - 1s 5ms/step - loss: 6.9641 - accuracy: 0.7115\n",
            "Epoch 25/100\n",
            "235/235 [==============================] - 1s 3ms/step - loss: 10.7998 - accuracy: 0.6972\n",
            "Epoch 26/100\n",
            "235/235 [==============================] - 1s 3ms/step - loss: 10.0325 - accuracy: 0.6997\n",
            "Epoch 27/100\n",
            "235/235 [==============================] - 1s 5ms/step - loss: 9.2344 - accuracy: 0.7032\n",
            "Epoch 28/100\n",
            "235/235 [==============================] - 1s 3ms/step - loss: 9.4360 - accuracy: 0.7009\n",
            "Epoch 29/100\n",
            "235/235 [==============================] - 1s 3ms/step - loss: 7.5364 - accuracy: 0.7059\n",
            "Epoch 30/100\n",
            "235/235 [==============================] - 1s 5ms/step - loss: 6.2403 - accuracy: 0.7072\n",
            "Epoch 31/100\n",
            "235/235 [==============================] - 2s 7ms/step - loss: 7.8648 - accuracy: 0.7084\n",
            "Epoch 32/100\n",
            "235/235 [==============================] - 1s 5ms/step - loss: 9.7257 - accuracy: 0.7085\n",
            "Epoch 33/100\n",
            "235/235 [==============================] - 1s 5ms/step - loss: 9.4877 - accuracy: 0.6948\n",
            "Epoch 34/100\n",
            "235/235 [==============================] - 1s 5ms/step - loss: 5.4764 - accuracy: 0.7105\n",
            "Epoch 35/100\n",
            "235/235 [==============================] - 1s 5ms/step - loss: 6.9666 - accuracy: 0.7092\n",
            "Epoch 36/100\n",
            "235/235 [==============================] - 1s 3ms/step - loss: 9.5815 - accuracy: 0.7073\n",
            "Epoch 37/100\n",
            "235/235 [==============================] - 1s 5ms/step - loss: 8.6224 - accuracy: 0.7051\n",
            "Epoch 38/100\n",
            "235/235 [==============================] - 1s 3ms/step - loss: 6.4703 - accuracy: 0.7029\n",
            "Epoch 39/100\n",
            "235/235 [==============================] - 1s 5ms/step - loss: 9.9691 - accuracy: 0.6985\n",
            "Epoch 40/100\n",
            "235/235 [==============================] - 2s 7ms/step - loss: 7.8896 - accuracy: 0.7116\n",
            "Epoch 41/100\n",
            "235/235 [==============================] - 1s 5ms/step - loss: 9.0134 - accuracy: 0.7104\n",
            "Epoch 42/100\n",
            "235/235 [==============================] - 1s 3ms/step - loss: 7.3849 - accuracy: 0.7061\n",
            "Epoch 43/100\n",
            "235/235 [==============================] - 1s 5ms/step - loss: 6.3729 - accuracy: 0.7092\n",
            "Epoch 44/100\n",
            "235/235 [==============================] - 1s 5ms/step - loss: 7.9348 - accuracy: 0.7109\n",
            "Epoch 45/100\n",
            "235/235 [==============================] - 1s 3ms/step - loss: 7.0025 - accuracy: 0.7116\n",
            "Epoch 46/100\n",
            "235/235 [==============================] - 1s 5ms/step - loss: 6.9654 - accuracy: 0.7079\n",
            "Epoch 47/100\n",
            "235/235 [==============================] - 1s 5ms/step - loss: 8.9151 - accuracy: 0.7032\n",
            "Epoch 48/100\n",
            "235/235 [==============================] - 1s 3ms/step - loss: 9.7558 - accuracy: 0.7141\n",
            "Epoch 49/100\n",
            "235/235 [==============================] - 1s 4ms/step - loss: 6.6331 - accuracy: 0.7188\n",
            "Epoch 50/100\n",
            "235/235 [==============================] - 1s 3ms/step - loss: 7.7760 - accuracy: 0.7085\n",
            "Epoch 51/100\n",
            "235/235 [==============================] - 1s 3ms/step - loss: 10.3836 - accuracy: 0.6992\n",
            "Epoch 52/100\n",
            "235/235 [==============================] - 1s 3ms/step - loss: 5.9765 - accuracy: 0.7136\n",
            "Epoch 53/100\n",
            "235/235 [==============================] - 1s 3ms/step - loss: 7.9036 - accuracy: 0.7093\n",
            "Epoch 54/100\n",
            "235/235 [==============================] - 1s 5ms/step - loss: 5.6970 - accuracy: 0.7127\n",
            "Epoch 55/100\n",
            "235/235 [==============================] - 1s 3ms/step - loss: 6.4395 - accuracy: 0.7159\n",
            "Epoch 56/100\n",
            "235/235 [==============================] - 1s 5ms/step - loss: 7.5051 - accuracy: 0.7081\n",
            "Epoch 57/100\n",
            "235/235 [==============================] - 1s 3ms/step - loss: 6.8727 - accuracy: 0.7119\n",
            "Epoch 58/100\n",
            "235/235 [==============================] - 1s 3ms/step - loss: 7.7882 - accuracy: 0.6996\n",
            "Epoch 59/100\n",
            "235/235 [==============================] - 1s 3ms/step - loss: 6.2692 - accuracy: 0.7192\n",
            "Epoch 60/100\n",
            "235/235 [==============================] - 1s 5ms/step - loss: 8.4228 - accuracy: 0.7061\n",
            "Epoch 61/100\n",
            "235/235 [==============================] - 1s 6ms/step - loss: 6.5259 - accuracy: 0.7139\n",
            "Epoch 62/100\n",
            "235/235 [==============================] - 1s 3ms/step - loss: 6.5908 - accuracy: 0.7105\n",
            "Epoch 63/100\n",
            "235/235 [==============================] - 1s 3ms/step - loss: 7.6992 - accuracy: 0.7149\n",
            "Epoch 64/100\n",
            "235/235 [==============================] - 1s 3ms/step - loss: 5.6011 - accuracy: 0.7136\n",
            "Epoch 65/100\n",
            "235/235 [==============================] - 1s 3ms/step - loss: 11.1756 - accuracy: 0.7035\n",
            "Epoch 66/100\n",
            "235/235 [==============================] - 1s 5ms/step - loss: 7.9245 - accuracy: 0.7001\n",
            "Epoch 67/100\n",
            "235/235 [==============================] - 1s 3ms/step - loss: 7.5483 - accuracy: 0.7124\n",
            "Epoch 68/100\n",
            "235/235 [==============================] - 1s 4ms/step - loss: 5.8712 - accuracy: 0.7208\n",
            "Epoch 69/100\n",
            "235/235 [==============================] - 1s 3ms/step - loss: 7.9091 - accuracy: 0.7045\n",
            "Epoch 70/100\n",
            "235/235 [==============================] - 1s 3ms/step - loss: 8.7754 - accuracy: 0.7055\n",
            "Epoch 71/100\n",
            "235/235 [==============================] - 1s 3ms/step - loss: 5.9286 - accuracy: 0.7211\n",
            "Epoch 72/100\n",
            "235/235 [==============================] - 1s 3ms/step - loss: 6.3350 - accuracy: 0.7103\n",
            "Epoch 73/100\n",
            "235/235 [==============================] - 1s 3ms/step - loss: 8.6391 - accuracy: 0.7081\n",
            "Epoch 74/100\n",
            "235/235 [==============================] - 1s 3ms/step - loss: 8.9436 - accuracy: 0.7091\n",
            "Epoch 75/100\n",
            "235/235 [==============================] - 1s 3ms/step - loss: 7.9080 - accuracy: 0.7080\n",
            "Epoch 76/100\n",
            "235/235 [==============================] - 1s 6ms/step - loss: 7.0455 - accuracy: 0.7075\n",
            "Epoch 77/100\n",
            "235/235 [==============================] - 1s 4ms/step - loss: 7.0160 - accuracy: 0.7101\n",
            "Epoch 78/100\n",
            "235/235 [==============================] - 1s 3ms/step - loss: 5.5290 - accuracy: 0.7139\n",
            "Epoch 79/100\n",
            "235/235 [==============================] - 1s 3ms/step - loss: 6.1598 - accuracy: 0.7176\n",
            "Epoch 80/100\n",
            "235/235 [==============================] - 1s 6ms/step - loss: 8.6035 - accuracy: 0.7104\n",
            "Epoch 81/100\n",
            "235/235 [==============================] - 1s 3ms/step - loss: 7.3447 - accuracy: 0.7103\n",
            "Epoch 82/100\n",
            "235/235 [==============================] - 1s 3ms/step - loss: 7.5852 - accuracy: 0.7072\n",
            "Epoch 83/100\n",
            "235/235 [==============================] - 1s 3ms/step - loss: 6.5635 - accuracy: 0.7125\n",
            "Epoch 84/100\n",
            "235/235 [==============================] - 1s 3ms/step - loss: 7.7503 - accuracy: 0.7117\n",
            "Epoch 85/100\n",
            "235/235 [==============================] - 1s 3ms/step - loss: 6.6743 - accuracy: 0.7131\n",
            "Epoch 86/100\n",
            "235/235 [==============================] - 1s 5ms/step - loss: 7.2627 - accuracy: 0.7131\n",
            "Epoch 87/100\n",
            "235/235 [==============================] - 1s 6ms/step - loss: 7.4801 - accuracy: 0.7079\n",
            "Epoch 88/100\n",
            "235/235 [==============================] - 1s 6ms/step - loss: 6.2107 - accuracy: 0.7057\n",
            "Epoch 89/100\n",
            "235/235 [==============================] - 1s 3ms/step - loss: 7.1750 - accuracy: 0.7059\n",
            "Epoch 90/100\n",
            "235/235 [==============================] - 2s 7ms/step - loss: 5.6459 - accuracy: 0.7139\n",
            "Epoch 91/100\n",
            "235/235 [==============================] - 1s 4ms/step - loss: 7.0191 - accuracy: 0.7125\n",
            "Epoch 92/100\n",
            "235/235 [==============================] - 1s 6ms/step - loss: 5.3341 - accuracy: 0.7161\n",
            "Epoch 93/100\n",
            "235/235 [==============================] - 2s 7ms/step - loss: 4.8019 - accuracy: 0.7193\n",
            "Epoch 94/100\n",
            "235/235 [==============================] - 2s 7ms/step - loss: 7.1926 - accuracy: 0.7139\n",
            "Epoch 95/100\n",
            "235/235 [==============================] - 1s 5ms/step - loss: 6.3504 - accuracy: 0.7133\n",
            "Epoch 96/100\n",
            "235/235 [==============================] - 2s 7ms/step - loss: 7.2291 - accuracy: 0.7072\n",
            "Epoch 97/100\n",
            "235/235 [==============================] - 1s 4ms/step - loss: 6.4760 - accuracy: 0.7061\n",
            "Epoch 98/100\n",
            "235/235 [==============================] - 1s 4ms/step - loss: 7.6222 - accuracy: 0.7024\n",
            "Epoch 99/100\n",
            "235/235 [==============================] - 1s 4ms/step - loss: 4.7640 - accuracy: 0.7203\n",
            "Epoch 100/100\n",
            "235/235 [==============================] - 1s 5ms/step - loss: 5.8012 - accuracy: 0.7143\n",
            "this is the 3th dataset split results\n",
            "Epoch 1/100\n",
            "235/235 [==============================] - 1s 5ms/step - loss: 6.4210 - accuracy: 0.7115\n",
            "Epoch 2/100\n",
            "235/235 [==============================] - 1s 3ms/step - loss: 6.7352 - accuracy: 0.7144\n",
            "Epoch 3/100\n",
            "235/235 [==============================] - 1s 5ms/step - loss: 6.3862 - accuracy: 0.7093\n",
            "Epoch 4/100\n",
            "235/235 [==============================] - 1s 3ms/step - loss: 7.4656 - accuracy: 0.7037\n",
            "Epoch 5/100\n",
            "235/235 [==============================] - 1s 3ms/step - loss: 5.8913 - accuracy: 0.7144\n",
            "Epoch 6/100\n",
            "235/235 [==============================] - 1s 3ms/step - loss: 6.8580 - accuracy: 0.7100\n",
            "Epoch 7/100\n",
            "235/235 [==============================] - 1s 5ms/step - loss: 5.1040 - accuracy: 0.7151\n",
            "Epoch 8/100\n",
            "235/235 [==============================] - 1s 3ms/step - loss: 10.2978 - accuracy: 0.7084\n",
            "Epoch 9/100\n",
            "235/235 [==============================] - 1s 5ms/step - loss: 7.4279 - accuracy: 0.7121\n",
            "Epoch 10/100\n",
            "235/235 [==============================] - 1s 3ms/step - loss: 5.9296 - accuracy: 0.7167\n",
            "Epoch 11/100\n",
            "235/235 [==============================] - 1s 5ms/step - loss: 6.3792 - accuracy: 0.7047\n",
            "Epoch 12/100\n",
            "235/235 [==============================] - 1s 3ms/step - loss: 4.6300 - accuracy: 0.7249\n",
            "Epoch 13/100\n",
            "235/235 [==============================] - 1s 5ms/step - loss: 4.8256 - accuracy: 0.7152\n",
            "Epoch 14/100\n",
            "235/235 [==============================] - 1s 3ms/step - loss: 6.2426 - accuracy: 0.7156\n",
            "Epoch 15/100\n",
            "235/235 [==============================] - 1s 3ms/step - loss: 8.9767 - accuracy: 0.7057\n",
            "Epoch 16/100\n",
            "235/235 [==============================] - 1s 3ms/step - loss: 7.2868 - accuracy: 0.7092\n",
            "Epoch 17/100\n",
            "235/235 [==============================] - 1s 5ms/step - loss: 4.6070 - accuracy: 0.7225\n",
            "Epoch 18/100\n",
            "235/235 [==============================] - 1s 5ms/step - loss: 5.8172 - accuracy: 0.7187\n",
            "Epoch 19/100\n",
            "235/235 [==============================] - 1s 3ms/step - loss: 6.2813 - accuracy: 0.7217\n",
            "Epoch 20/100\n",
            "235/235 [==============================] - 1s 3ms/step - loss: 7.6028 - accuracy: 0.7069\n",
            "Epoch 21/100\n",
            "235/235 [==============================] - 1s 3ms/step - loss: 6.4932 - accuracy: 0.7041\n",
            "Epoch 22/100\n",
            "235/235 [==============================] - 1s 3ms/step - loss: 5.3433 - accuracy: 0.7120\n",
            "Epoch 23/100\n",
            "235/235 [==============================] - 1s 5ms/step - loss: 6.8014 - accuracy: 0.7120\n",
            "Epoch 24/100\n",
            "235/235 [==============================] - 1s 3ms/step - loss: 5.2703 - accuracy: 0.7187\n",
            "Epoch 25/100\n",
            "235/235 [==============================] - 1s 5ms/step - loss: 4.8060 - accuracy: 0.7180\n",
            "Epoch 26/100\n",
            "188/235 [=======================>......] - ETA: 0s - loss: 5.2475 - accuracy: 0.7134"
          ]
        }
      ]
    },
    {
      "cell_type": "code",
      "source": [
        "def createDataFrames():\n",
        "  accuracy_Data=[]\n",
        "  loss_Data=[]\n",
        "  for history in accuracies:\n",
        "    accuracy_arr=[]\n",
        "    accuracy_arr.append(sum(history.history['accuracy']) / len(history.history['accuracy']))\n",
        "    loss_arr=[]\n",
        "    loss_arr.append(sum(history.history['loss']) / len(history.history['loss']))\n",
        "    for accuracy_val, loss_val in zip(history.history['accuracy'],history.history['loss']):\n",
        "      accuracy_arr.append(accuracy_val)\n",
        "      loss_arr.append(loss_val)\n",
        "    \n",
        "    accuracy_Data.append(accuracy_arr)\n",
        "    loss_Data.append(loss_arr)\n",
        "  #creating dataframes from these values\n",
        "  columns=['mean']\n",
        "  for i in range(1,101):\n",
        "    columns.append(f'Epoch{i}')\n",
        "  index=['CV1','CV2','CV3','CV4','CV5','CV6','CV7','CV8','CV9','CV10']\n",
        "\n",
        "  #this is the dataframe for accuracies\n",
        "  accuracy_DF = pd.DataFrame(data=accuracy_Data,index=index,columns=columns)\n",
        "  accuracy_DF = accuracy_DF.sort_values(by=['mean'],ascending=False)\n",
        "  #this is the dataframe for losses\n",
        "  loss_DF = pd.DataFrame(data=loss_Data,index=index,columns=columns)\n",
        "  loss_DF = loss_DF.sort_values(by=['mean'],ascending=False)\n",
        "\n",
        "  return {'accuracies':accuracy_DF,'losses':loss_DF}\n",
        "\n",
        "dfs=createDataFrames()"
      ],
      "metadata": {
        "id": "J08Q80O8skDO"
      },
      "execution_count": null,
      "outputs": []
    },
    {
      "cell_type": "code",
      "source": [
        "#this is the accuracy dataframe\n",
        "print(dfs['accuracies'])"
      ],
      "metadata": {
        "id": "826iYKavyON3"
      },
      "execution_count": null,
      "outputs": []
    },
    {
      "cell_type": "code",
      "source": [
        "#this is the loss dataframe\n",
        "print(dfs['losses'])"
      ],
      "metadata": {
        "id": "dAq10PE4yUBC"
      },
      "execution_count": null,
      "outputs": []
    },
    {
      "cell_type": "code",
      "source": [
        "print(f'This is the mean accuracy of the model after applying 10 cross validations {dfs[\"accuracies\"][\"mean\"].mean()}')"
      ],
      "metadata": {
        "id": "stbynNlJyjSk"
      },
      "execution_count": null,
      "outputs": []
    },
    {
      "cell_type": "code",
      "source": [
        "print(f'This is the mean loss of the model after applying 10 cross validations {dfs[\"losses\"][\"mean\"].mean()}')"
      ],
      "metadata": {
        "id": "BSA7K9YkzM23"
      },
      "execution_count": null,
      "outputs": []
    },
    {
      "cell_type": "code",
      "source": [
        "#processing the dataset to get a mapping for the categorical values\n",
        "#this will keep a track of all the encodings that we will be using to preprocess the data that will be fed to the trained model for predictions\n",
        "preProcess_dataset=pd.read_csv('/content/Churn_Modelling.csv').iloc[:,4:6].values\n",
        "from sklearn.preprocessing import LabelEncoder\n",
        "from sklearn.preprocessing import OneHotEncoder\n",
        "from sklearn.compose import ColumnTransformer\n",
        "Gender_unique = np.unique(preProcess_dataset[:,1])\n",
        "Country_unique = np.unique(preProcess_dataset[:,0])\n"
      ],
      "metadata": {
        "id": "nqF0bo_yzeer"
      },
      "execution_count": null,
      "outputs": []
    },
    {
      "cell_type": "markdown",
      "source": [
        ""
      ],
      "metadata": {
        "id": "_1dZ-YR94Aqs"
      }
    },
    {
      "cell_type": "code",
      "source": [
        "genderDict={}\n",
        "for val1,val2 in zip(Gender_unique,le.fit_transform(Gender_unique)):\n",
        "  genderDict[val1]=val2"
      ],
      "metadata": {
        "id": "7obJSUxY5qrU"
      },
      "execution_count": null,
      "outputs": []
    },
    {
      "cell_type": "code",
      "source": [
        "countryDict={}\n",
        "ct1=ColumnTransformer(transformers=[('encoder',OneHotEncoder(),[0])],remainder='passthrough')\n",
        "for val1,val2 in zip(preProcess_dataset[:,0],np.array(ct1.fit_transform(preProcess_dataset))):\n",
        "  countryDict[val1]=val2[:-1]\n",
        "\n",
        "print(countryDict)"
      ],
      "metadata": {
        "id": "3n2JR7bn6-WM"
      },
      "execution_count": null,
      "outputs": []
    },
    {
      "cell_type": "code",
      "source": [
        "#writing a function that taken in an input and then gives an output based on the trained model\n",
        "#in these functions need to apply inverse transformation to the input values to fit model requirements\n",
        "\n",
        "#pass in the values and use the trained model to predict the results\n",
        "#using names parameters here\n",
        "def predictResults(\n",
        "    RowNumber:int,CustomeId:int,Surname:str,\n",
        "    CreditScore:int,Geography:str,Gender:'str',\n",
        "    Age:int,Tenure:int,Balance:float,NumOfProducts:int,\n",
        "    HasCard:int,IsActiveMember:int,EstimatedSalary:float,):\n",
        "  featureArr=np.array([CreditScore,countryDict[Geography][0],countryDict[Geography][1],countryDict[Geography][2],genderDict[Gender],\n",
        "    Age,Tenure,Balance,NumOfProducts,HasCard,IsActiveMember,EstimatedSalary])\n",
        "  features=st.transform([[CreditScore,countryDict[Geography][0],countryDict[Geography][1],countryDict[Geography][2],genderDict[Gender],\n",
        "    Age,Tenure,Balance,NumOfProducts,HasCard,IsActiveMember,EstimatedSalary]])\n",
        "  if ann.predict(features)>0.5:\n",
        "    return 'will'\n",
        "  else:\n",
        "    return 'will not'\n",
        "\n",
        "\n",
        "result=predictResults(1,15634602\t,'Hargrave'\t,619,\t'France',\t'Female'\t,42,\t2,\t0,\t1,\t1,\t1,\t101348.88)\n",
        "print(f'the user {result} leave the firm')"
      ],
      "metadata": {
        "id": "zqF_2GIyA4ej"
      },
      "execution_count": null,
      "outputs": []
    }
  ]
}